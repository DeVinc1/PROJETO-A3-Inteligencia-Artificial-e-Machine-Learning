{
  "nbformat": 4,
  "nbformat_minor": 0,
  "metadata": {
    "colab": {
      "provenance": [],
      "collapsed_sections": [
        "rWM0LzBdo7Gp",
        "aUtDm73uqlg2",
        "_PFKtOwIslEm",
        "4fJ9f5E75M-o"
      ]
    },
    "kernelspec": {
      "name": "python3",
      "display_name": "Python 3"
    },
    "language_info": {
      "name": "python"
    }
  },
  "cells": [
    {
      "cell_type": "markdown",
      "source": [
        "# **EXPORTAÇÃO E ANÁLISE DA DATABASE**"
      ],
      "metadata": {
        "id": "rWM0LzBdo7Gp"
      }
    },
    {
      "cell_type": "code",
      "execution_count": 1,
      "metadata": {
        "id": "gHX3kULJ0QYb",
        "colab": {
          "base_uri": "https://localhost:8080/"
        },
        "outputId": "854082d8-518d-462d-a900-68960aa1cf70"
      },
      "outputs": [
        {
          "output_type": "stream",
          "name": "stdout",
          "text": [
            "Collecting spotipy\n",
            "  Downloading spotipy-2.23.0-py3-none-any.whl (29 kB)\n",
            "Collecting redis>=3.5.3 (from spotipy)\n",
            "  Downloading redis-5.0.1-py3-none-any.whl (250 kB)\n",
            "\u001b[?25l     \u001b[90m━━━━━━━━━━━━━━━━━━━━━━━━━━━━━━━━━━━━━━━━\u001b[0m \u001b[32m0.0/250.3 kB\u001b[0m \u001b[31m?\u001b[0m eta \u001b[36m-:--:--\u001b[0m\r\u001b[2K     \u001b[91m━━━━━━━━━━━━━━━━━━━━━━━━━━━━━━━━━━━━━━━\u001b[0m\u001b[90m╺\u001b[0m \u001b[32m245.8/250.3 kB\u001b[0m \u001b[31m8.9 MB/s\u001b[0m eta \u001b[36m0:00:01\u001b[0m\r\u001b[2K     \u001b[90m━━━━━━━━━━━━━━━━━━━━━━━━━━━━━━━━━━━━━━━━\u001b[0m \u001b[32m250.3/250.3 kB\u001b[0m \u001b[31m6.7 MB/s\u001b[0m eta \u001b[36m0:00:00\u001b[0m\n",
            "\u001b[?25hRequirement already satisfied: requests>=2.25.0 in /usr/local/lib/python3.10/dist-packages (from spotipy) (2.31.0)\n",
            "Requirement already satisfied: six>=1.15.0 in /usr/local/lib/python3.10/dist-packages (from spotipy) (1.16.0)\n",
            "Requirement already satisfied: urllib3>=1.26.0 in /usr/local/lib/python3.10/dist-packages (from spotipy) (2.0.7)\n",
            "Requirement already satisfied: async-timeout>=4.0.2 in /usr/local/lib/python3.10/dist-packages (from redis>=3.5.3->spotipy) (4.0.3)\n",
            "Requirement already satisfied: charset-normalizer<4,>=2 in /usr/local/lib/python3.10/dist-packages (from requests>=2.25.0->spotipy) (3.3.2)\n",
            "Requirement already satisfied: idna<4,>=2.5 in /usr/local/lib/python3.10/dist-packages (from requests>=2.25.0->spotipy) (3.4)\n",
            "Requirement already satisfied: certifi>=2017.4.17 in /usr/local/lib/python3.10/dist-packages (from requests>=2.25.0->spotipy) (2023.7.22)\n",
            "Installing collected packages: redis, spotipy\n",
            "Successfully installed redis-5.0.1 spotipy-2.23.0\n"
          ]
        }
      ],
      "source": [
        "#Configurando bibliotecas e ambiente de execução\n",
        "!pip install spotipy\n",
        "from IPython.display import display, HTML\n",
        "import pandas as pd\n",
        "import numpy as np\n",
        "import spotipy\n",
        "from spotipy.oauth2 import SpotifyClientCredentials\n",
        "import warnings\n",
        "warnings.filterwarnings('ignore')"
      ]
    },
    {
      "cell_type": "code",
      "source": [
        "#Criar dataframe\n",
        "treino = pd.read_csv(\"musicas_categorizadas.csv\")"
      ],
      "metadata": {
        "id": "PaTCI8trOzE4"
      },
      "execution_count": 2,
      "outputs": []
    },
    {
      "cell_type": "code",
      "source": [
        "#Obter informações sobre a database\n",
        "\n",
        "print(\"A database \\'musicas_categorizadas\\' possui as seguintes colunas: \\n \\n \", treino.columns , \"\\n--------------------------------------\")\n",
        "print(\"Cada coluna da database \\'musicas_categorizadas\\' armazena os seguintes tipos de dados: \\n \\n\", treino.dtypes , \"\\n--------------------------------------\")\n",
        "print(\"Cada coluna da database \\'musicas_categorizadas\\' possui a seguinte soma de valores nulos: \\n \\n\", treino.isnull().sum(), \"\\n--------------------------------------\")\n",
        "\n",
        "duplicados = treino.duplicated()\n",
        "linhas_duplicadas = treino[treino.duplicated()]\n",
        "\n",
        "print(\"Por fim, há\", linhas_duplicadas.shape[0], \"linhas duplicadas na database \\'musicas_categorizadas.csv\\'.\")"
      ],
      "metadata": {
        "id": "58tU0-lcpAxY",
        "colab": {
          "base_uri": "https://localhost:8080/"
        },
        "outputId": "e2b6c036-532c-401a-adbc-8abb8f039e25"
      },
      "execution_count": 3,
      "outputs": [
        {
          "output_type": "stream",
          "name": "stdout",
          "text": [
            "A database 'musicas_categorizadas' possui as seguintes colunas: \n",
            " \n",
            "  Index(['Artist Name', 'Track Name', 'Popularity', 'danceability', 'energy',\n",
            "       'key', 'loudness', 'mode', 'speechiness', 'acousticness',\n",
            "       'instrumentalness', 'liveness', 'valence', 'tempo',\n",
            "       'duration_in min/ms', 'time_signature', 'Class'],\n",
            "      dtype='object') \n",
            "--------------------------------------\n",
            "Cada coluna da database 'musicas_categorizadas' armazena os seguintes tipos de dados: \n",
            " \n",
            " Artist Name            object\n",
            "Track Name             object\n",
            "Popularity            float64\n",
            "danceability          float64\n",
            "energy                float64\n",
            "key                   float64\n",
            "loudness              float64\n",
            "mode                    int64\n",
            "speechiness           float64\n",
            "acousticness          float64\n",
            "instrumentalness      float64\n",
            "liveness              float64\n",
            "valence               float64\n",
            "tempo                 float64\n",
            "duration_in min/ms    float64\n",
            "time_signature          int64\n",
            "Class                   int64\n",
            "dtype: object \n",
            "--------------------------------------\n",
            "Cada coluna da database 'musicas_categorizadas' possui a seguinte soma de valores nulos: \n",
            " \n",
            " Artist Name              0\n",
            "Track Name               0\n",
            "Popularity             428\n",
            "danceability             0\n",
            "energy                   0\n",
            "key                   2014\n",
            "loudness                 0\n",
            "mode                     0\n",
            "speechiness              0\n",
            "acousticness             0\n",
            "instrumentalness      4377\n",
            "liveness                 0\n",
            "valence                  0\n",
            "tempo                    0\n",
            "duration_in min/ms       0\n",
            "time_signature           0\n",
            "Class                    0\n",
            "dtype: int64 \n",
            "--------------------------------------\n",
            "Por fim, há 0 linhas duplicadas na database 'musicas_categorizadas.csv'.\n"
          ]
        }
      ]
    },
    {
      "cell_type": "code",
      "source": [
        "#Verificar a frequência de gêneros na database\n",
        "frequencies = treino['Class'].value_counts()\n",
        "\n",
        "print(\"Cada gênero presente no database aparece no seguinte número de vezes: \\n \\n\", frequencies)"
      ],
      "metadata": {
        "id": "I4obB8Tpqg3_",
        "colab": {
          "base_uri": "https://localhost:8080/"
        },
        "outputId": "21bae5a2-70a7-4269-85de-cf7fe8cc546b"
      },
      "execution_count": 4,
      "outputs": [
        {
          "output_type": "stream",
          "name": "stdout",
          "text": [
            "Cada gênero presente no database aparece no seguinte número de vezes: \n",
            " \n",
            " 10    4949\n",
            "6     2587\n",
            "9     2524\n",
            "8     1854\n",
            "5     1447\n",
            "1     1373\n",
            "2     1272\n",
            "0      625\n",
            "7      576\n",
            "3      402\n",
            "4      387\n",
            "Name: Class, dtype: int64\n"
          ]
        }
      ]
    },
    {
      "cell_type": "markdown",
      "source": [
        "# **TRANSFORMAÇÕES NA DATABASE**"
      ],
      "metadata": {
        "id": "aUtDm73uqlg2"
      }
    },
    {
      "cell_type": "code",
      "source": [
        "#Removendo as colunas que não influenciam o modelo\n",
        "treino = treino.drop(['Artist Name', 'Track Name', 'Popularity', 'duration_in min/ms'], axis=1)\n",
        "print(\"As colunas restantes são: \\n\", treino.columns)"
      ],
      "metadata": {
        "id": "fqEyNabkAuqP",
        "colab": {
          "base_uri": "https://localhost:8080/"
        },
        "outputId": "34d02b61-958e-426f-df75-d9b9fef5cd83"
      },
      "execution_count": 5,
      "outputs": [
        {
          "output_type": "stream",
          "name": "stdout",
          "text": [
            "As colunas restantes são: \n",
            " Index(['danceability', 'energy', 'key', 'loudness', 'mode', 'speechiness',\n",
            "       'acousticness', 'instrumentalness', 'liveness', 'valence', 'tempo',\n",
            "       'time_signature', 'Class'],\n",
            "      dtype='object')\n"
          ]
        }
      ]
    },
    {
      "cell_type": "code",
      "source": [
        "#Verificando valores nulos nas colunas restantes\n",
        "print(treino.isnull().sum())"
      ],
      "metadata": {
        "id": "wAru4k86UU8j",
        "colab": {
          "base_uri": "https://localhost:8080/"
        },
        "outputId": "299732e5-8ead-4d7c-915c-699446eec186"
      },
      "execution_count": 6,
      "outputs": [
        {
          "output_type": "stream",
          "name": "stdout",
          "text": [
            "danceability           0\n",
            "energy                 0\n",
            "key                 2014\n",
            "loudness               0\n",
            "mode                   0\n",
            "speechiness            0\n",
            "acousticness           0\n",
            "instrumentalness    4377\n",
            "liveness               0\n",
            "valence                0\n",
            "tempo                  0\n",
            "time_signature         0\n",
            "Class                  0\n",
            "dtype: int64\n"
          ]
        }
      ]
    },
    {
      "cell_type": "code",
      "source": [
        "#Imputando dados em 'key' a partir da abordagem da WEB api Spotify - NULOS = -1\n",
        "treino['key'] = treino['key'].fillna(-1)"
      ],
      "metadata": {
        "id": "5BmZsJtnjFn5"
      },
      "execution_count": 7,
      "outputs": []
    },
    {
      "cell_type": "code",
      "source": [
        "#Limitando a coluna 'instrumentalness' para 4 casas decimais\n",
        "treino['instrumentalness'] = treino['instrumentalness'].round(4)\n",
        "\n",
        "#Imputando dados em 'instrumentalness' com a média de cada gênero\n",
        "for i in range(11):\n",
        "  media = treino.loc[treino['Class'] == i, 'instrumentalness'].mean()\n",
        "  media = media.round(4)\n",
        "  print(\"Gênero\", i, \"tem média\", media)\n",
        "  treino.loc[(treino['Class'] == i) & (treino['instrumentalness'].isna()), 'instrumentalness'] = media\n",
        "\n",
        "#Transformando 'tempo' em inteiro (BPM)\n",
        "treino['tempo'] = treino['tempo'].round()"
      ],
      "metadata": {
        "id": "D03bvhP29S-K",
        "colab": {
          "base_uri": "https://localhost:8080/"
        },
        "outputId": "8f57afe0-729a-465c-bc88-36de853bb073"
      },
      "execution_count": 8,
      "outputs": [
        {
          "output_type": "stream",
          "name": "stdout",
          "text": [
            "Gênero 0 tem média 0.0995\n",
            "Gênero 1 tem média 0.1992\n",
            "Gênero 2 tem média 0.0979\n",
            "Gênero 3 tem média 0.1314\n",
            "Gênero 4 tem média 0.0127\n",
            "Gênero 5 tem média 0.0688\n",
            "Gênero 6 tem média 0.2626\n",
            "Gênero 7 tem média 0.7404\n",
            "Gênero 8 tem média 0.2359\n",
            "Gênero 9 tem média 0.0498\n",
            "Gênero 10 tem média 0.1128\n"
          ]
        }
      ]
    },
    {
      "cell_type": "code",
      "source": [
        "#Verificando se preenchimento aconteceu com sucesso\n",
        "print(treino.isnull().sum())"
      ],
      "metadata": {
        "id": "sMj3dY_p_HeW",
        "colab": {
          "base_uri": "https://localhost:8080/"
        },
        "outputId": "cc9fbeca-7db0-442d-bd78-2e2de8d1a3df"
      },
      "execution_count": 9,
      "outputs": [
        {
          "output_type": "stream",
          "name": "stdout",
          "text": [
            "danceability        0\n",
            "energy              0\n",
            "key                 0\n",
            "loudness            0\n",
            "mode                0\n",
            "speechiness         0\n",
            "acousticness        0\n",
            "instrumentalness    0\n",
            "liveness            0\n",
            "valence             0\n",
            "tempo               0\n",
            "time_signature      0\n",
            "Class               0\n",
            "dtype: int64\n"
          ]
        }
      ]
    },
    {
      "cell_type": "markdown",
      "source": [
        "# **TREINAMENTO DOS MODELOS DE IA**"
      ],
      "metadata": {
        "id": "_PFKtOwIslEm"
      }
    },
    {
      "cell_type": "code",
      "source": [
        "#Desenvolvendo modelo de ML\n",
        "from sklearn.model_selection import train_test_split\n",
        "from sklearn.neural_network import MLPClassifier\n",
        "from sklearn.metrics import confusion_matrix\n",
        "from sklearn.metrics import accuracy_score\n",
        "\n",
        "#Separando as características e o alvo\n",
        "X = treino.drop('Class', axis=1)\n",
        "y = treino['Class']\n",
        "\n",
        "\n",
        "#REDE NEURAL ------------------------------------------------------------\n",
        "\n",
        "X_train, X_test, y_train, y_test = train_test_split(X, y, test_size=0.5, random_state=42)\n",
        "\n",
        "# Criando o modelo de rede neural com os parâmetros fornecidos\n",
        "clf_neural = MLPClassifier(hidden_layer_sizes=(50, 50, 50, 50), activation='tanh', solver='adam', alpha=0.05, learning_rate='constant', max_iter=500, random_state=42)\n",
        "\n",
        "#Treinando o modelo\n",
        "clf_neural.fit(X_train, y_train)\n",
        "\n",
        "#Fazendo previsões com o conjunto de teste\n",
        "y_pred = clf_neural.predict(X_test)\n",
        "\n",
        "#Calcular a acurácia do modelo\n",
        "accuracy = accuracy_score(y_test, y_pred)\n",
        "\n",
        "print(f'\\nAcurácia do modelo de rede neural é : {accuracy:.3f}% \\n-------------------')\n",
        "\n",
        "#------------------------------------------------------------\n",
        "\n",
        "# ARVORE DE DECISÃO ------------------------------------------------------------\n",
        "from sklearn.tree import DecisionTreeClassifier\n",
        "\n",
        "#Criando o modelo de árvore de decisão\n",
        "clf_tree = DecisionTreeClassifier(criterion = 'gini', splitter = 'best', max_depth = 10, min_samples_leaf = 1, min_samples_split = 10, random_state = 42)\n",
        "\n",
        "#Treinando o modelo\n",
        "clf_tree.fit(X_train, y_train)\n",
        "\n",
        "#Fazendo previsões com o conjunto de teste\n",
        "y_pred = clf_tree.predict(X_test)\n",
        "\n",
        "#Calcular a acurácia do modelo\n",
        "accuracy = accuracy_score(y_test, y_pred)\n",
        "\n",
        "print(f'Acurácia do modelo de arvore de decisão: {accuracy:.3f}% \\n-------------------')\n",
        "\n",
        "#------------------------------------------------------------\n",
        "\n",
        "# NAIVE BAYES (Bayes Inocente) ------------------------------------------------------------\n",
        "\n",
        "from sklearn.naive_bayes import GaussianNB\n",
        "\n",
        "# Criando o modelo Naive Bayes\n",
        "clf_nb = GaussianNB()\n",
        "\n",
        "# Treinando o modelo\n",
        "clf_nb.fit(X_train, y_train)\n",
        "\n",
        "# Fazendo previsões com o conjunto de teste\n",
        "y_pred = clf_nb.predict(X_test)\n",
        "\n",
        "# Calcular a acurácia do modelo\n",
        "accuracy = accuracy_score(y_test, y_pred)\n",
        "\n",
        "print(f'Acurácia do modelo Naive Bayes: {accuracy:.3f}% \\n-------------------')\n",
        "\n"
      ],
      "metadata": {
        "id": "XzGmgEkAdoNw",
        "colab": {
          "base_uri": "https://localhost:8080/"
        },
        "outputId": "da53dce9-7311-45ea-f761-8729c16326c0"
      },
      "execution_count": 12,
      "outputs": [
        {
          "output_type": "stream",
          "name": "stdout",
          "text": [
            "\n",
            "Acurácia do modelo de rede neural é : 0.509% \n",
            "-------------------\n",
            "Acurácia do modelo de arvore de decisão: 0.518% \n",
            "-------------------\n",
            "Acurácia do modelo Naive Bayes: 0.376% \n",
            "-------------------\n"
          ]
        }
      ]
    },
    {
      "cell_type": "markdown",
      "source": [
        "# **INTERAÇÃO DO USUÁRIO - PREVENDO GÊNERO DE MÚSICA NOVA**"
      ],
      "metadata": {
        "id": "4fJ9f5E75M-o"
      }
    },
    {
      "cell_type": "code",
      "source": [
        "#Credenciais da API\n",
        "client_credentials_manager = SpotifyClientCredentials(client_id='9b1e9ff837434408ae773f93a6facb78', client_secret='67dbfcb123f343b2a6921dbfe243914f')\n",
        "sp = spotipy.Spotify(client_credentials_manager=client_credentials_manager)\n",
        "\n",
        "#Obtendo o nome da música do usuário\n",
        "nome_da_musica = input(\"Digite o nome da música que você quer pesquisar: \")\n",
        "results = sp.search(q=nome_da_musica, limit=1)\n",
        "musica = results['tracks']['items'][0]['name']\n",
        "autor = results['tracks']['items'][0]['artists'][0]['name']\n",
        "\n",
        "#Mostrando o resultado\n",
        "print(\"A música que você buscou retornou o resultado: \", musica, \" - \", autor)\n",
        "\n",
        "print(\"\\nOuça uma prévia da música que você selecionou: \")\n",
        "id_da_musica = results['tracks']['items'][0]['id']\n",
        "embed_link = f\"https://open.spotify.com/embed/track/{id_da_musica}\"\n",
        "iframe = f\"\"\"<iframe src=\"{embed_link}\" width=\"380\" height=\"200\" frameborder=\"0\" allowtransparency=\"true\" allow=\"encrypted-media\"></iframe>\"\"\"\n",
        "display(HTML(iframe))\n",
        "\n",
        "\n",
        "#Obtendo os dados da música\n",
        "dadosDaMusica = sp.audio_features(id_da_musica)[0]\n",
        "\n",
        "#Limitando o atributo 'instrumentalness' para apenas 4 casas decimais\n",
        "dadosDaMusica['instrumentalness'] = round(dadosDaMusica['instrumentalness'], 4)\n",
        "\n",
        "# Mapeando os dados fornecidos para a ordem desejada\n",
        "caracteristicas_relevantes = ['danceability', 'energy', 'key', 'loudness', 'mode', 'speechiness',\n",
        "       'acousticness', 'instrumentalness', 'liveness', 'valence', 'tempo',\n",
        "       'time_signature']\n",
        "valores = [dadosDaMusica[key] for key in caracteristicas_relevantes]\n",
        "\n",
        "#Selecionando o modelo de IA que o usuário quer usar\n",
        "print(\"Qual modelo você quer usar pra predição da sua música? \\n \\t  1 - Árvore de Decisão \\n \\t  2 - Rede Neural \\n \\t  3 - Naive Bayes\")\n",
        "modelo = input()\n",
        "\n",
        "# Mapeando a entrada do usuário para o modelo correspondente\n",
        "modelos = {'1': clf_tree, '2': clf_neural, '3': clf_nb}\n",
        "\n",
        "# Verificando se a entrada do usuário é válida\n",
        "if modelo in modelos:\n",
        "    # Fazendo a previsão com o modelo escolhido\n",
        "    predicao = modelos[modelo].predict([valores])\n",
        "else:\n",
        "    print(\"Entrada inválida. Por favor, escolha 1, 2 ou 3.\")\n",
        "\n",
        "if predicao == 0:\n",
        "    categoria_correspondente = \"Acoustic/Folk\"\n",
        "elif predicao == 1:\n",
        "    categoria_correspondente = \"Alt Music\"\n",
        "elif predicao == 2:\n",
        "    categoria_correspondente = \"Blues\"\n",
        "elif predicao == 3:\n",
        "    categoria_correspondente = \"Bollywood\"\n",
        "elif predicao == 4:\n",
        "    categoria_correspondente = \"Country\"\n",
        "elif predicao == 5:\n",
        "    categoria_correspondente = \"HipHop\"\n",
        "elif predicao == 6:\n",
        "    categoria_correspondente = \"Indie/Alt\"\n",
        "elif predicao == 7:\n",
        "    categoria_correspondente = \"Instrumental\"\n",
        "elif predicao == 8:\n",
        "    categoria_correspondente = \"Metal\"\n",
        "elif predicao == 9:\n",
        "    categoria_correspondente = \"Pop\"\n",
        "elif predicao == 10:\n",
        "    categoria_correspondente = \"Rock\"\n",
        "else:\n",
        "    categoria_correspondente = \"Categoria Desconhecida\"\n",
        "\n",
        "#Printando resultado\n",
        "print(\"-------------------------------------- \\n A musica\", musica, \"de\", autor, \"faz parte do Gênero Musical -\", categoria_correspondente, predicao)\n",
        "\n",
        "#Obtendo recomendações\n",
        "recommendations = sp.recommendations(seed_tracks=[id_da_musica],\n",
        "                                      limit=10,\n",
        "                                      target_danceability=dadosDaMusica['danceability'],\n",
        "                                      target_energy=dadosDaMusica['energy'],\n",
        "                                      target_liveness=dadosDaMusica['mode'],\n",
        "                                      target_valence=dadosDaMusica['valence'])\n",
        "\n",
        "\n",
        "# Imprimir os nomes das músicas recomendadas e seus artistas\n",
        "print(\"-------------------------------------- \\n Músicas com a mesma ｖ   ｉ   ｂ   ｅ: \\n \")\n",
        "for track in recommendations['tracks'][1:]:\n",
        "    print(f\"\\t Música: {track['name']} — {track['artists'][0]['name']} \\n\")\n"
      ],
      "metadata": {
        "id": "VespMLzdglYV",
        "colab": {
          "base_uri": "https://localhost:8080/",
          "height": 776
        },
        "outputId": "5e6c2be3-a987-4dd7-d0e0-a6f14eaf0672"
      },
      "execution_count": 13,
      "outputs": [
        {
          "output_type": "stream",
          "name": "stdout",
          "text": [
            "Digite o nome da música que você quer pesquisar: CHVRCHES - Miracle\n",
            "A música que você buscou retornou o resultado:  Miracle  -  CHVRCHES\n",
            "\n",
            "Ouça uma prévia da música que você selecionou: \n"
          ]
        },
        {
          "output_type": "display_data",
          "data": {
            "text/plain": [
              "<IPython.core.display.HTML object>"
            ],
            "text/html": [
              "<iframe src=\"https://open.spotify.com/embed/track/2Kc1WhZsBbR2ZLbSyv83hO\" width=\"380\" height=\"200\" frameborder=\"0\" allowtransparency=\"true\" allow=\"encrypted-media\"></iframe>"
            ]
          },
          "metadata": {}
        },
        {
          "output_type": "stream",
          "name": "stdout",
          "text": [
            "Qual modelo você quer usar pra predição da sua música? \n",
            " \t  1 - Árvore de Decisão \n",
            " \t  2 - Rede Neural \n",
            " \t  3 - Naive Bayes\n",
            "1\n",
            "-------------------------------------- \n",
            " A musica Miracle de CHVRCHES faz parte do Gênero Musical - Rock [10]\n",
            "-------------------------------------- \n",
            " Músicas com a mesma ｖ   ｉ   ｂ   ｅ: \n",
            " \n",
            "\t Música: Blur (feat. Foster The People) — MØ \n",
            "\n",
            "\t Música: We Sink — CHVRCHES \n",
            "\n",
            "\t Música: Capsize — FRENSHIP \n",
            "\n",
            "\t Música: Young Blood — The Naked And Famous \n",
            "\n",
            "\t Música: Sit Next to Me — Foster The People \n",
            "\n",
            "\t Música: Timebomb — WALK THE MOON \n",
            "\n",
            "\t Música: Blur — MØ \n",
            "\n",
            "\t Música: The Mother We Share — CHVRCHES \n",
            "\n",
            "\t Música: Genghis Khan — Miike Snow \n",
            "\n"
          ]
        }
      ]
    }
  ]
}