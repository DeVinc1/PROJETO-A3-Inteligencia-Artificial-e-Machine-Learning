{
  "nbformat": 4,
  "nbformat_minor": 0,
  "metadata": {
    "colab": {
      "provenance": []
    },
    "kernelspec": {
      "name": "python3",
      "display_name": "Python 3"
    },
    "language_info": {
      "name": "python"
    }
  },
  "cells": [
    {
      "cell_type": "code",
      "execution_count": 1,
      "metadata": {
        "id": "gHX3kULJ0QYb",
        "colab": {
          "base_uri": "https://localhost:8080/"
        },
        "outputId": "cc348776-edf6-4037-e4b0-5c9ce56a6733"
      },
      "outputs": [
        {
          "output_type": "stream",
          "name": "stdout",
          "text": [
            "Collecting spotipy\n",
            "  Downloading spotipy-2.23.0-py3-none-any.whl (29 kB)\n",
            "Collecting redis>=3.5.3 (from spotipy)\n",
            "  Downloading redis-5.0.1-py3-none-any.whl (250 kB)\n",
            "\u001b[2K     \u001b[90m━━━━━━━━━━━━━━━━━━━━━━━━━━━━━━━━━━━━━━━━\u001b[0m \u001b[32m250.3/250.3 kB\u001b[0m \u001b[31m6.4 MB/s\u001b[0m eta \u001b[36m0:00:00\u001b[0m\n",
            "\u001b[?25hRequirement already satisfied: requests>=2.25.0 in /usr/local/lib/python3.10/dist-packages (from spotipy) (2.31.0)\n",
            "Requirement already satisfied: six>=1.15.0 in /usr/local/lib/python3.10/dist-packages (from spotipy) (1.16.0)\n",
            "Requirement already satisfied: urllib3>=1.26.0 in /usr/local/lib/python3.10/dist-packages (from spotipy) (2.0.7)\n",
            "Requirement already satisfied: async-timeout>=4.0.2 in /usr/local/lib/python3.10/dist-packages (from redis>=3.5.3->spotipy) (4.0.3)\n",
            "Requirement already satisfied: charset-normalizer<4,>=2 in /usr/local/lib/python3.10/dist-packages (from requests>=2.25.0->spotipy) (3.3.2)\n",
            "Requirement already satisfied: idna<4,>=2.5 in /usr/local/lib/python3.10/dist-packages (from requests>=2.25.0->spotipy) (3.4)\n",
            "Requirement already satisfied: certifi>=2017.4.17 in /usr/local/lib/python3.10/dist-packages (from requests>=2.25.0->spotipy) (2023.7.22)\n",
            "Installing collected packages: redis, spotipy\n",
            "Successfully installed redis-5.0.1 spotipy-2.23.0\n"
          ]
        }
      ],
      "source": [
        "!pip install spotipy\n",
        "import pandas as pd\n",
        "import numpy as np\n",
        "import spotipy\n",
        "from spotipy.oauth2 import SpotifyClientCredentials"
      ]
    },
    {
      "cell_type": "code",
      "source": [
        "#Criar dataframe\n",
        "treino = pd.read_csv(\"train.csv\")"
      ],
      "metadata": {
        "id": "PaTCI8trOzE4"
      },
      "execution_count": 2,
      "outputs": []
    },
    {
      "cell_type": "code",
      "source": [
        "#Removendo as colunas que não influenciam o modelo\n",
        "treino = treino.drop(['Artist Name', 'Track Name', 'Popularity', 'duration_in min/ms'], axis=1)"
      ],
      "metadata": {
        "id": "fqEyNabkAuqP"
      },
      "execution_count": 3,
      "outputs": []
    },
    {
      "cell_type": "code",
      "source": [
        "#Verificando valores nulos nas colunas restantes\n",
        "print(treino.isnull().sum())"
      ],
      "metadata": {
        "id": "wAru4k86UU8j",
        "colab": {
          "base_uri": "https://localhost:8080/"
        },
        "outputId": "1affc0d5-1fd2-4f9f-d744-c6b8861647ad"
      },
      "execution_count": 4,
      "outputs": [
        {
          "output_type": "stream",
          "name": "stdout",
          "text": [
            "danceability           0\n",
            "energy                 0\n",
            "key                 2014\n",
            "loudness               0\n",
            "mode                   0\n",
            "speechiness            0\n",
            "acousticness           0\n",
            "instrumentalness    4377\n",
            "liveness               0\n",
            "valence                0\n",
            "tempo                  0\n",
            "time_signature         0\n",
            "Class                  0\n",
            "dtype: int64\n"
          ]
        }
      ]
    },
    {
      "cell_type": "code",
      "source": [
        "#Imputando dados em 'key' a partir da abordagem da WEB api Spotify - NULOS = -1\n",
        "treino['key'] = treino['key'].fillna(-1)"
      ],
      "metadata": {
        "id": "5BmZsJtnjFn5"
      },
      "execution_count": 5,
      "outputs": []
    },
    {
      "cell_type": "code",
      "source": [
        "#Limitando a coluna 'instrumentalness' para 4 casas decimais\n",
        "treino['instrumentalness'] = treino['instrumentalness'].round(4)\n",
        "\n",
        "#Imputando dados em 'instrumentalness' com a média de cada gênero\n",
        "for i in range(11):\n",
        "  media = treino.loc[treino['Class'] == i, 'instrumentalness'].mean()\n",
        "  media = media.round(4)\n",
        "  print(\"Gênero\", i, \"tem média\", media)\n",
        "  treino.loc[(treino['Class'] == i) & (treino['instrumentalness'].isna()), 'instrumentalness'] = media\n",
        "\n",
        "#Transformando 'tempo' em inteiro (BPM)\n",
        "treino['tempo'] = treino['tempo'].round()"
      ],
      "metadata": {
        "colab": {
          "base_uri": "https://localhost:8080/"
        },
        "id": "D03bvhP29S-K",
        "outputId": "96e74a24-6f0f-4e45-d4d3-8706bbbf27cf"
      },
      "execution_count": 6,
      "outputs": [
        {
          "output_type": "stream",
          "name": "stdout",
          "text": [
            "Gênero 0 tem média 0.0995\n",
            "Gênero 1 tem média 0.1992\n",
            "Gênero 2 tem média 0.0979\n",
            "Gênero 3 tem média 0.1314\n",
            "Gênero 4 tem média 0.0127\n",
            "Gênero 5 tem média 0.0688\n",
            "Gênero 6 tem média 0.2626\n",
            "Gênero 7 tem média 0.7404\n",
            "Gênero 8 tem média 0.2359\n",
            "Gênero 9 tem média 0.0498\n",
            "Gênero 10 tem média 0.1128\n"
          ]
        }
      ]
    },
    {
      "cell_type": "code",
      "source": [
        "#Verificando se preenchimento aconteceu com sucesso\n",
        "print(treino.isnull().sum())"
      ],
      "metadata": {
        "colab": {
          "base_uri": "https://localhost:8080/"
        },
        "id": "sMj3dY_p_HeW",
        "outputId": "ff6fb708-f187-422a-ed32-2c734196d38f"
      },
      "execution_count": 7,
      "outputs": [
        {
          "output_type": "stream",
          "name": "stdout",
          "text": [
            "danceability        0\n",
            "energy              0\n",
            "key                 0\n",
            "loudness            0\n",
            "mode                0\n",
            "speechiness         0\n",
            "acousticness        0\n",
            "instrumentalness    0\n",
            "liveness            0\n",
            "valence             0\n",
            "tempo               0\n",
            "time_signature      0\n",
            "Class               0\n",
            "dtype: int64\n"
          ]
        }
      ]
    },
    {
      "cell_type": "code",
      "source": [
        "#Verificando colunas existentes\n",
        "treino.columns"
      ],
      "metadata": {
        "colab": {
          "base_uri": "https://localhost:8080/"
        },
        "id": "-J8YFN_H_m8f",
        "outputId": "65719de0-eec5-4099-adc6-3d2313321bca"
      },
      "execution_count": 8,
      "outputs": [
        {
          "output_type": "execute_result",
          "data": {
            "text/plain": [
              "Index(['danceability', 'energy', 'key', 'loudness', 'mode', 'speechiness',\n",
              "       'acousticness', 'instrumentalness', 'liveness', 'valence', 'tempo',\n",
              "       'time_signature', 'Class'],\n",
              "      dtype='object')"
            ]
          },
          "metadata": {},
          "execution_count": 8
        }
      ]
    },
    {
      "cell_type": "code",
      "source": [
        "#Desenvolvendo modelo de ML\n",
        "from sklearn.model_selection import train_test_split\n",
        "from sklearn.neural_network import MLPClassifier\n",
        "from sklearn.metrics import accuracy_score\n",
        "\n",
        "#Separando as características e o alvo\n",
        "X = treino.drop('Class', axis=1)\n",
        "y = treino['Class']\n",
        "\n",
        "X_train, X_test, y_train, y_test = train_test_split(X, y, test_size=0.5, random_state=42)\n",
        "\n",
        "# Criando o modelo de rede neural com os parâmetros fornecidos\n",
        "clf = MLPClassifier(hidden_layer_sizes=(50, 100, 50), activation='tanh', solver='adam', alpha=0.05, learning_rate='constant', max_iter=200, random_state=42)\n",
        "\n",
        "#Treinando o modelo\n",
        "clf.fit(X_train, y_train)\n",
        "\n",
        "#Fazendo previsões com o conjunto de teste\n",
        "y_pred = clf.predict(X_test)\n",
        "\n",
        "#Calcular a acurácia do modelo\n",
        "accuracy = accuracy_score(y_test, y_pred)\n",
        "\n",
        "print(f'Acurácia do modelo: {accuracy}')\n",
        "#print(clf.score(X_test,y_test))"
      ],
      "metadata": {
        "colab": {
          "base_uri": "https://localhost:8080/"
        },
        "id": "XzGmgEkAdoNw",
        "outputId": "0694a47c-47f9-4e71-fd1e-39bb2a7cc267"
      },
      "execution_count": 11,
      "outputs": [
        {
          "output_type": "stream",
          "name": "stdout",
          "text": [
            "Acurácia do modelo: 0.4473216270282285\n"
          ]
        }
      ]
    },
    {
      "cell_type": "code",
      "source": [
        "#Credenciais da API\n",
        "client_credentials_manager = SpotifyClientCredentials(client_id='9b1e9ff837434408ae773f93a6facb78', client_secret='67dbfcb123f343b2a6921dbfe243914f')\n",
        "sp = spotipy.Spotify(client_credentials_manager=client_credentials_manager)\n",
        "\n",
        "#Obtendo o nome da música do usuário\n",
        "nome_da_musica = input(\"Digite o nome da música que você quer pesquisar: \")\n",
        "results = sp.search(q=nome_da_musica, limit=1)\n",
        "\n",
        "#Obtendo o nome da música e do artista\n",
        "musica = results['tracks']['items'][0]['name']\n",
        "autor = results['tracks']['items'][0]['artists'][0]['name']\n",
        "\n",
        "#Mostrando o resultado\n",
        "print(\"A música que você buscou retornou o resultado: \", musica, \" - \", autor)\n",
        "\n",
        "#Pegando o ID da música encontrada\n",
        "id_da_musica = results['tracks']['items'][0]['id']\n",
        "\n",
        "#Obtendo os dados da música\n",
        "dadosDaMusica = sp.audio_features(id_da_musica)[0]\n",
        "\n",
        "#Limitando o atributo 'instrumentalness' para apenas 4 casas decimais\n",
        "dadosDaMusica['instrumentalness'] = round(dadosDaMusica['instrumentalness'], 4)\n"
      ],
      "metadata": {
        "id": "VespMLzdglYV",
        "colab": {
          "base_uri": "https://localhost:8080/"
        },
        "outputId": "db0095e3-33fb-474c-8aa8-bc266634a522"
      },
      "execution_count": 12,
      "outputs": [
        {
          "output_type": "stream",
          "name": "stdout",
          "text": [
            "Digite o nome da música que você quer pesquisar: feather sabrina\n",
            "A música que você buscou retornou o resultado:  Feather  -  Sabrina Carpenter\n"
          ]
        }
      ]
    },
    {
      "cell_type": "code",
      "source": [
        "# Mapeando os dados fornecidos para a ordem desejada\n",
        "caracteristicas_relevantes = ['danceability', 'energy', 'key', 'loudness', 'mode', 'speechiness',\n",
        "       'acousticness', 'instrumentalness', 'liveness', 'valence', 'tempo',\n",
        "       'time_signature']\n",
        "valores = [dadosDaMusica[key] for key in caracteristicas_relevantes]\n",
        "\n",
        "# Usando a lista de valores para a previsão\n",
        "predicao = clf.predict([valores])\n",
        "\n",
        "if predicao == 0:\n",
        "    categoria_correspondente = \"Acoustic/Folk\"\n",
        "elif predicao == 1:\n",
        "    categoria_correspondente = \"Alt Music\"\n",
        "elif predicao == 2:\n",
        "    categoria_correspondente = \"Blues\"\n",
        "elif predicao == 3:\n",
        "    categoria_correspondente = \"Bollywood\"\n",
        "elif predicao == 4:\n",
        "    categoria_correspondente = \"Country\"\n",
        "elif predicao == 5:\n",
        "    categoria_correspondente = \"HipHop\"\n",
        "elif predicao == 6:\n",
        "    categoria_correspondente = \"Indie/Alt\"\n",
        "elif predicao == 7:\n",
        "    categoria_correspondente = \"Instrumental\"\n",
        "elif predicao == 8:\n",
        "    categoria_correspondente = \"Metal\"\n",
        "elif predicao == 9:\n",
        "    categoria_correspondente = \"Pop\"\n",
        "elif predicao == 10:\n",
        "    categoria_correspondente = \"Rock\"\n",
        "else:\n",
        "    categoria_correspondente = \"Categoria Desconhecida\"\n",
        "\n",
        "#Printando resultado\n",
        "print(\"A musica\", musica, \"de\", autor, \"faz parte do Gênero Musical -\", categoria_correspondente, predicao)"
      ],
      "metadata": {
        "colab": {
          "base_uri": "https://localhost:8080/"
        },
        "id": "T_S6ZHK9GfNJ",
        "outputId": "6d644247-99c4-438f-fc06-4ab82b0ba36b"
      },
      "execution_count": 13,
      "outputs": [
        {
          "output_type": "stream",
          "name": "stdout",
          "text": [
            "A musica Feather de Sabrina Carpenter faz parte do Gênero Musical - Pop [9]\n"
          ]
        },
        {
          "output_type": "stream",
          "name": "stderr",
          "text": [
            "/usr/local/lib/python3.10/dist-packages/sklearn/base.py:439: UserWarning: X does not have valid feature names, but MLPClassifier was fitted with feature names\n",
            "  warnings.warn(\n"
          ]
        }
      ]
    },
    {
      "cell_type": "code",
      "source": [
        "#Obtendo recomendações\n",
        "recommendations = sp.recommendations(seed_tracks=[id_da_musica],\n",
        "                                      limit=10,\n",
        "                                      target_danceability=dadosDaMusica['danceability'],\n",
        "                                      target_energy=dadosDaMusica['energy'],\n",
        "                                      target_liveness=dadosDaMusica['liveness'],\n",
        "                                      target_valence=dadosDaMusica['valence'])\n",
        "\n",
        "\n",
        "# Imprimir os nomes das músicas recomendadas e seus artistas\n",
        "print(\"Músicas qcom a mesma \\\"vibe\\\": \\n \")\n",
        "for track in recommendations['tracks'][1:]:\n",
        "    print(f\"\\t Música: {track['name']} — {track['artists'][0]['name']} \\n\")"
      ],
      "metadata": {
        "colab": {
          "base_uri": "https://localhost:8080/"
        },
        "id": "xYbTlPZjnjtS",
        "outputId": "d453f046-03c8-44b0-b8fd-a0444b567fe6"
      },
      "execution_count": 14,
      "outputs": [
        {
          "output_type": "stream",
          "name": "stdout",
          "text": [
            "Músicas qcom a mesma \"vibe\": \n",
            " \n",
            "\t Música: Yuck — Charli XCX \n",
            "\n",
            "\t Música: don't miss me — Claire Rosinkranz \n",
            "\n",
            "\t Música: It Is What It Is — Jenna Raine \n",
            "\n",
            "\t Música: greedy — Tate McRae \n",
            "\n",
            "\t Música: LEFT RIGHT — XG \n",
            "\n",
            "\t Música: I Just Wanna Know — Katherine Li \n",
            "\n",
            "\t Música: i got it — thuy \n",
            "\n",
            "\t Música: newbury park — Lexi Jayde \n",
            "\n",
            "\t Música: Sweet Venom — ENHYPEN \n",
            "\n"
          ]
        }
      ]
    }
  ]
}