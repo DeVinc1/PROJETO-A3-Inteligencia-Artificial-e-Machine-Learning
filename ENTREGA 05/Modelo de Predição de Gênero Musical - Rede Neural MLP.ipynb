{
  "nbformat": 4,
  "nbformat_minor": 0,
  "metadata": {
    "colab": {
      "provenance": []
    },
    "kernelspec": {
      "name": "python3",
      "display_name": "Python 3"
    },
    "language_info": {
      "name": "python"
    }
  },
  "cells": [
    {
      "cell_type": "markdown",
      "source": [
        "# **EXPORTAÇÃO E ANÁLISE DA DATABASE**"
      ],
      "metadata": {
        "id": "rWM0LzBdo7Gp"
      }
    },
    {
      "cell_type": "code",
      "execution_count": 20,
      "metadata": {
        "id": "gHX3kULJ0QYb",
        "colab": {
          "base_uri": "https://localhost:8080/"
        },
        "outputId": "9d384c72-6586-4238-b0c1-71b4c7fbb1e8"
      },
      "outputs": [
        {
          "output_type": "stream",
          "name": "stdout",
          "text": [
            "Requirement already satisfied: spotipy in /usr/local/lib/python3.10/dist-packages (2.23.0)\n",
            "Requirement already satisfied: redis>=3.5.3 in /usr/local/lib/python3.10/dist-packages (from spotipy) (5.0.1)\n",
            "Requirement already satisfied: requests>=2.25.0 in /usr/local/lib/python3.10/dist-packages (from spotipy) (2.31.0)\n",
            "Requirement already satisfied: six>=1.15.0 in /usr/local/lib/python3.10/dist-packages (from spotipy) (1.16.0)\n",
            "Requirement already satisfied: urllib3>=1.26.0 in /usr/local/lib/python3.10/dist-packages (from spotipy) (2.0.7)\n",
            "Requirement already satisfied: async-timeout>=4.0.2 in /usr/local/lib/python3.10/dist-packages (from redis>=3.5.3->spotipy) (4.0.3)\n",
            "Requirement already satisfied: charset-normalizer<4,>=2 in /usr/local/lib/python3.10/dist-packages (from requests>=2.25.0->spotipy) (3.3.2)\n",
            "Requirement already satisfied: idna<4,>=2.5 in /usr/local/lib/python3.10/dist-packages (from requests>=2.25.0->spotipy) (3.4)\n",
            "Requirement already satisfied: certifi>=2017.4.17 in /usr/local/lib/python3.10/dist-packages (from requests>=2.25.0->spotipy) (2023.7.22)\n"
          ]
        }
      ],
      "source": [
        "!pip install spotipy\n",
        "import pandas as pd\n",
        "import numpy as np\n",
        "import spotipy\n",
        "from spotipy.oauth2 import SpotifyClientCredentials"
      ]
    },
    {
      "cell_type": "code",
      "source": [
        "#Criar dataframe\n",
        "treino = pd.read_csv(\"train.csv\")"
      ],
      "metadata": {
        "id": "PaTCI8trOzE4"
      },
      "execution_count": 21,
      "outputs": []
    },
    {
      "cell_type": "code",
      "source": [
        "#Obter informações sobre a database\n",
        "\n",
        "print(\"A database \\'train.csv\\' possui as seguintes colunas: \\n \\n \", treino.columns , \"\\n--------------------------------------\")\n",
        "print(\"Cada coluna da database \\'train.csv\\' armazena os seguintes tipos de dados: \\n \\n\", treino.dtypes , \"\\n--------------------------------------\")\n",
        "print(\"Cada coluna da database \\'train.csv\\' possui a seguinte soma de valores nulos: \\n \\n\", treino.isnull().sum(), \"\\n--------------------------------------\")\n",
        "\n",
        "duplicados = treino.duplicated()\n",
        "linhas_duplicadas = treino[treino.duplicated()]\n",
        "\n",
        "print(\"Por fim, há\", linhas_duplicadas.shape[0], \"linhas duplicadas na database \\'SpotifyFeatures.csv\\'.\")"
      ],
      "metadata": {
        "colab": {
          "base_uri": "https://localhost:8080/"
        },
        "id": "58tU0-lcpAxY",
        "outputId": "6aa311a6-7bac-430f-ab96-8de6677a2246"
      },
      "execution_count": 22,
      "outputs": [
        {
          "output_type": "stream",
          "name": "stdout",
          "text": [
            "A database 'train.csv' possui as seguintes colunas: \n",
            " \n",
            "  Index(['Artist Name', 'Track Name', 'Popularity', 'danceability', 'energy',\n",
            "       'key', 'loudness', 'mode', 'speechiness', 'acousticness',\n",
            "       'instrumentalness', 'liveness', 'valence', 'tempo',\n",
            "       'duration_in min/ms', 'time_signature', 'Class'],\n",
            "      dtype='object') \n",
            "--------------------------------------\n",
            "Cada coluna da database 'train.csv' armazena os seguintes tipos de dados: \n",
            " \n",
            " Artist Name            object\n",
            "Track Name             object\n",
            "Popularity            float64\n",
            "danceability          float64\n",
            "energy                float64\n",
            "key                   float64\n",
            "loudness              float64\n",
            "mode                    int64\n",
            "speechiness           float64\n",
            "acousticness          float64\n",
            "instrumentalness      float64\n",
            "liveness              float64\n",
            "valence               float64\n",
            "tempo                 float64\n",
            "duration_in min/ms    float64\n",
            "time_signature          int64\n",
            "Class                   int64\n",
            "dtype: object \n",
            "--------------------------------------\n",
            "Cada coluna da database 'train.csv' possui a seguinte soma de valores nulos: \n",
            " \n",
            " Artist Name              0\n",
            "Track Name               0\n",
            "Popularity             428\n",
            "danceability             0\n",
            "energy                   0\n",
            "key                   2014\n",
            "loudness                 0\n",
            "mode                     0\n",
            "speechiness              0\n",
            "acousticness             0\n",
            "instrumentalness      4377\n",
            "liveness                 0\n",
            "valence                  0\n",
            "tempo                    0\n",
            "duration_in min/ms       0\n",
            "time_signature           0\n",
            "Class                    0\n",
            "dtype: int64 \n",
            "--------------------------------------\n",
            "Por fim, há 0 linhas duplicadas na database 'SpotifyFeatures.csv'.\n"
          ]
        }
      ]
    },
    {
      "cell_type": "code",
      "source": [
        "#Verificar a frequência de gêneros na database\n",
        "frequencies = treino['Class'].value_counts()\n",
        "\n",
        "print(\"Cada gênero presente no database aparece no seguinte número de vezes: \\n \\n\", frequencies)"
      ],
      "metadata": {
        "colab": {
          "base_uri": "https://localhost:8080/"
        },
        "id": "I4obB8Tpqg3_",
        "outputId": "ccb72bed-66f1-4174-ed34-4b3fd68a45f6"
      },
      "execution_count": 23,
      "outputs": [
        {
          "output_type": "stream",
          "name": "stdout",
          "text": [
            "Cada gênero presente no database aparece no seguinte número de vezes: \n",
            " \n",
            " 10    4949\n",
            "6     2587\n",
            "9     2524\n",
            "8     1854\n",
            "5     1447\n",
            "1     1373\n",
            "2     1272\n",
            "0      625\n",
            "7      576\n",
            "3      402\n",
            "4      387\n",
            "Name: Class, dtype: int64\n"
          ]
        }
      ]
    },
    {
      "cell_type": "markdown",
      "source": [
        "# **TRANSFORMAÇÕES NA DATABASE**"
      ],
      "metadata": {
        "id": "aUtDm73uqlg2"
      }
    },
    {
      "cell_type": "code",
      "source": [
        "#Removendo as colunas que não influenciam o modelo\n",
        "treino = treino.drop(['Artist Name', 'Track Name', 'Popularity', 'duration_in min/ms'], axis=1)\n",
        "print(\"As colunas restantes são: \\n\", treino.columns)"
      ],
      "metadata": {
        "id": "fqEyNabkAuqP",
        "colab": {
          "base_uri": "https://localhost:8080/"
        },
        "outputId": "5172f813-bcfb-457a-8170-881e7eb28176"
      },
      "execution_count": 24,
      "outputs": [
        {
          "output_type": "stream",
          "name": "stdout",
          "text": [
            "As colunas restantes são: \n",
            " Index(['danceability', 'energy', 'key', 'loudness', 'mode', 'speechiness',\n",
            "       'acousticness', 'instrumentalness', 'liveness', 'valence', 'tempo',\n",
            "       'time_signature', 'Class'],\n",
            "      dtype='object')\n"
          ]
        }
      ]
    },
    {
      "cell_type": "code",
      "source": [
        "#Verificando valores nulos nas colunas restantes\n",
        "print(treino.isnull().sum())"
      ],
      "metadata": {
        "id": "wAru4k86UU8j",
        "colab": {
          "base_uri": "https://localhost:8080/"
        },
        "outputId": "ad37496c-c8ac-48c1-b549-614abe7661df"
      },
      "execution_count": 25,
      "outputs": [
        {
          "output_type": "stream",
          "name": "stdout",
          "text": [
            "danceability           0\n",
            "energy                 0\n",
            "key                 2014\n",
            "loudness               0\n",
            "mode                   0\n",
            "speechiness            0\n",
            "acousticness           0\n",
            "instrumentalness    4377\n",
            "liveness               0\n",
            "valence                0\n",
            "tempo                  0\n",
            "time_signature         0\n",
            "Class                  0\n",
            "dtype: int64\n"
          ]
        }
      ]
    },
    {
      "cell_type": "code",
      "source": [
        "#Imputando dados em 'key' a partir da abordagem da WEB api Spotify - NULOS = -1\n",
        "treino['key'] = treino['key'].fillna(-1)"
      ],
      "metadata": {
        "id": "5BmZsJtnjFn5"
      },
      "execution_count": 26,
      "outputs": []
    },
    {
      "cell_type": "code",
      "source": [
        "#Limitando a coluna 'instrumentalness' para 4 casas decimais\n",
        "treino['instrumentalness'] = treino['instrumentalness'].round(4)\n",
        "\n",
        "#Imputando dados em 'instrumentalness' com a média de cada gênero\n",
        "for i in range(11):\n",
        "  media = treino.loc[treino['Class'] == i, 'instrumentalness'].mean()\n",
        "  media = media.round(4)\n",
        "  print(\"Gênero\", i, \"tem média\", media)\n",
        "  treino.loc[(treino['Class'] == i) & (treino['instrumentalness'].isna()), 'instrumentalness'] = media\n",
        "\n",
        "#Transformando 'tempo' em inteiro (BPM)\n",
        "treino['tempo'] = treino['tempo'].round()"
      ],
      "metadata": {
        "colab": {
          "base_uri": "https://localhost:8080/"
        },
        "id": "D03bvhP29S-K",
        "outputId": "d6cc6652-8363-49dc-e7f1-9a2c805bf96b"
      },
      "execution_count": 27,
      "outputs": [
        {
          "output_type": "stream",
          "name": "stdout",
          "text": [
            "Gênero 0 tem média 0.0995\n",
            "Gênero 1 tem média 0.1992\n",
            "Gênero 2 tem média 0.0979\n",
            "Gênero 3 tem média 0.1314\n",
            "Gênero 4 tem média 0.0127\n",
            "Gênero 5 tem média 0.0688\n",
            "Gênero 6 tem média 0.2626\n",
            "Gênero 7 tem média 0.7404\n",
            "Gênero 8 tem média 0.2359\n",
            "Gênero 9 tem média 0.0498\n",
            "Gênero 10 tem média 0.1128\n"
          ]
        }
      ]
    },
    {
      "cell_type": "code",
      "source": [
        "#Verificando se preenchimento aconteceu com sucesso\n",
        "print(treino.isnull().sum())"
      ],
      "metadata": {
        "colab": {
          "base_uri": "https://localhost:8080/"
        },
        "id": "sMj3dY_p_HeW",
        "outputId": "3d9e36d6-b8d4-4b3b-8adb-15e7efc090ab"
      },
      "execution_count": 28,
      "outputs": [
        {
          "output_type": "stream",
          "name": "stdout",
          "text": [
            "danceability        0\n",
            "energy              0\n",
            "key                 0\n",
            "loudness            0\n",
            "mode                0\n",
            "speechiness         0\n",
            "acousticness        0\n",
            "instrumentalness    0\n",
            "liveness            0\n",
            "valence             0\n",
            "tempo               0\n",
            "time_signature      0\n",
            "Class               0\n",
            "dtype: int64\n"
          ]
        }
      ]
    },
    {
      "cell_type": "markdown",
      "source": [
        "# **MODELO DE IA**"
      ],
      "metadata": {
        "id": "_PFKtOwIslEm"
      }
    },
    {
      "cell_type": "code",
      "source": [
        "#Desenvolvendo modelo de ML\n",
        "from sklearn.model_selection import train_test_split\n",
        "from sklearn.neural_network import MLPClassifier\n",
        "from sklearn.metrics import accuracy_score\n",
        "\n",
        "#Separando as características e o alvo\n",
        "X = treino.drop('Class', axis=1)\n",
        "y = treino['Class']\n",
        "\n",
        "X_train, X_test, y_train, y_test = train_test_split(X, y, test_size=0.5, random_state=42)\n",
        "\n",
        "# Criando o modelo de rede neural com os parâmetros fornecidos\n",
        "clf = MLPClassifier(hidden_layer_sizes=(50, 100, 50), activation='tanh', solver='adam', alpha=0.05, learning_rate='constant', max_iter=200, random_state=42)\n",
        "\n",
        "#Treinando o modelo\n",
        "clf.fit(X_train, y_train)\n",
        "\n",
        "#Fazendo previsões com o conjunto de teste\n",
        "y_pred = clf.predict(X_test)\n",
        "\n",
        "#Calcular a acurácia do modelo\n",
        "accuracy = accuracy_score(y_test, y_pred)\n",
        "\n",
        "print(f'Acurácia do modelo: {accuracy}')\n",
        "#print(clf.score(X_test,y_test))"
      ],
      "metadata": {
        "colab": {
          "base_uri": "https://localhost:8080/"
        },
        "id": "XzGmgEkAdoNw",
        "outputId": "86157411-aba1-4c23-91cc-4b964e61533c"
      },
      "execution_count": 29,
      "outputs": [
        {
          "output_type": "stream",
          "name": "stdout",
          "text": [
            "Acurácia do modelo: 0.4473216270282285\n"
          ]
        }
      ]
    },
    {
      "cell_type": "code",
      "source": [
        "#Credenciais da API\n",
        "client_credentials_manager = SpotifyClientCredentials(client_id='9b1e9ff837434408ae773f93a6facb78', client_secret='67dbfcb123f343b2a6921dbfe243914f')\n",
        "sp = spotipy.Spotify(client_credentials_manager=client_credentials_manager)\n",
        "\n",
        "#Obtendo o nome da música do usuário\n",
        "nome_da_musica = input(\"Digite o nome da música que você quer pesquisar: \")\n",
        "results = sp.search(q=nome_da_musica, limit=1)\n",
        "\n",
        "#Obtendo o nome da música e do artista\n",
        "musica = results['tracks']['items'][0]['name']\n",
        "autor = results['tracks']['items'][0]['artists'][0]['name']\n",
        "\n",
        "#Mostrando o resultado\n",
        "print(\"A música que você buscou retornou o resultado: \", musica, \" - \", autor)\n",
        "\n",
        "#Pegando o ID da música encontrada\n",
        "id_da_musica = results['tracks']['items'][0]['id']\n",
        "\n",
        "#Obtendo os dados da música\n",
        "dadosDaMusica = sp.audio_features(id_da_musica)[0]\n",
        "\n",
        "#Limitando o atributo 'instrumentalness' para apenas 4 casas decimais\n",
        "dadosDaMusica['instrumentalness'] = round(dadosDaMusica['instrumentalness'], 4)\n"
      ],
      "metadata": {
        "id": "VespMLzdglYV",
        "colab": {
          "base_uri": "https://localhost:8080/"
        },
        "outputId": "c1bc5cdd-c3e1-45ad-f54f-d63ad41b4ff5"
      },
      "execution_count": 43,
      "outputs": [
        {
          "output_type": "stream",
          "name": "stdout",
          "text": [
            "Digite o nome da música que você quer pesquisar: CHVRCHES - Miracle\n",
            "A música que você buscou retornou o resultado:  Miracle  -  CHVRCHES\n"
          ]
        }
      ]
    },
    {
      "cell_type": "code",
      "source": [
        "# Mapeando os dados fornecidos para a ordem desejada\n",
        "caracteristicas_relevantes = ['danceability', 'energy', 'key', 'loudness', 'mode', 'speechiness',\n",
        "       'acousticness', 'instrumentalness', 'liveness', 'valence', 'tempo',\n",
        "       'time_signature']\n",
        "valores = [dadosDaMusica[key] for key in caracteristicas_relevantes]\n",
        "\n",
        "# Usando a lista de valores para a previsão\n",
        "predicao = clf.predict([valores])\n",
        "\n",
        "if predicao == 0:\n",
        "    categoria_correspondente = \"Acoustic/Folk\"\n",
        "elif predicao == 1:\n",
        "    categoria_correspondente = \"Alt Music\"\n",
        "elif predicao == 2:\n",
        "    categoria_correspondente = \"Blues\"\n",
        "elif predicao == 3:\n",
        "    categoria_correspondente = \"Bollywood\"\n",
        "elif predicao == 4:\n",
        "    categoria_correspondente = \"Country\"\n",
        "elif predicao == 5:\n",
        "    categoria_correspondente = \"HipHop\"\n",
        "elif predicao == 6:\n",
        "    categoria_correspondente = \"Indie/Alt\"\n",
        "elif predicao == 7:\n",
        "    categoria_correspondente = \"Instrumental\"\n",
        "elif predicao == 8:\n",
        "    categoria_correspondente = \"Metal\"\n",
        "elif predicao == 9:\n",
        "    categoria_correspondente = \"Pop\"\n",
        "elif predicao == 10:\n",
        "    categoria_correspondente = \"Rock\"\n",
        "else:\n",
        "    categoria_correspondente = \"Categoria Desconhecida\"\n",
        "\n",
        "#Printando resultado\n",
        "print(\"A musica\", musica, \"de\", autor, \"faz parte do Gênero Musical -\", categoria_correspondente, predicao)"
      ],
      "metadata": {
        "colab": {
          "base_uri": "https://localhost:8080/"
        },
        "id": "T_S6ZHK9GfNJ",
        "outputId": "203a6afe-004f-4baf-eff3-91c0c74f1d36"
      },
      "execution_count": 44,
      "outputs": [
        {
          "output_type": "stream",
          "name": "stdout",
          "text": [
            "A musica Miracle de CHVRCHES faz parte do Gênero Musical - Rock [10]\n"
          ]
        },
        {
          "output_type": "stream",
          "name": "stderr",
          "text": [
            "/usr/local/lib/python3.10/dist-packages/sklearn/base.py:439: UserWarning: X does not have valid feature names, but MLPClassifier was fitted with feature names\n",
            "  warnings.warn(\n"
          ]
        }
      ]
    },
    {
      "cell_type": "code",
      "source": [
        "#Obtendo recomendações\n",
        "recommendations = sp.recommendations(seed_tracks=[id_da_musica],\n",
        "                                      limit=10,\n",
        "                                      target_danceability=dadosDaMusica['danceability'],\n",
        "                                      target_energy=dadosDaMusica['energy'],\n",
        "                                      target_liveness=dadosDaMusica['liveness'],\n",
        "                                      target_valence=dadosDaMusica['valence'])\n",
        "\n",
        "\n",
        "# Imprimir os nomes das músicas recomendadas e seus artistas\n",
        "print(\"Músicas qcom a mesma \\\"vibe\\\": \\n \")\n",
        "for track in recommendations['tracks'][1:]:\n",
        "    print(f\"\\t Música: {track['name']} — {track['artists'][0]['name']} \\n\")"
      ],
      "metadata": {
        "colab": {
          "base_uri": "https://localhost:8080/"
        },
        "id": "xYbTlPZjnjtS",
        "outputId": "40b26446-e58e-45e5-8416-99b15419be71"
      },
      "execution_count": 45,
      "outputs": [
        {
          "output_type": "stream",
          "name": "stdout",
          "text": [
            "Músicas qcom a mesma \"vibe\": \n",
            " \n",
            "\t Música: Miracle — CHVRCHES \n",
            "\n",
            "\t Música: Wake Me Up — Fickle Friends \n",
            "\n",
            "\t Música: ...Ready For It? — Taylor Swift \n",
            "\n",
            "\t Música: i'm so tired... — Lauv \n",
            "\n",
            "\t Música: Superposition — Young the Giant \n",
            "\n",
            "\t Música: Sunday Morning (feat. Josie Dunne) — Matoma \n",
            "\n",
            "\t Música: Your Love — HAERTS \n",
            "\n",
            "\t Música: Need Your Love (with Noah Kahan) — Gryffin \n",
            "\n",
            "\t Música: All of You — Betty Who \n",
            "\n"
          ]
        }
      ]
    }
  ]
}