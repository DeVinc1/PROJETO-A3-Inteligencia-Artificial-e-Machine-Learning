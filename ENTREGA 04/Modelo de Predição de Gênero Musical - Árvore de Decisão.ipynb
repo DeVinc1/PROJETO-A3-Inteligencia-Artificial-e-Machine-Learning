{
  "nbformat": 4,
  "nbformat_minor": 0,
  "metadata": {
    "colab": {
      "provenance": []
    },
    "kernelspec": {
      "name": "python3",
      "display_name": "Python 3"
    },
    "language_info": {
      "name": "python"
    }
  },
  "cells": [
    {
      "cell_type": "code",
      "execution_count": 6,
      "metadata": {
        "id": "gHX3kULJ0QYb"
      },
      "outputs": [],
      "source": [
        "import pandas as pd\n",
        "import numpy as np"
      ]
    },
    {
      "cell_type": "code",
      "source": [
        "#Criar dataframe\n",
        "treino = pd.read_csv(\"train.csv\")"
      ],
      "metadata": {
        "id": "PaTCI8trOzE4"
      },
      "execution_count": 7,
      "outputs": []
    },
    {
      "cell_type": "code",
      "source": [
        "#Removendo as colunas que não influenciam o modelo\n",
        "treino = treino.drop(['Artist Name', 'Track Name', 'Popularity', 'duration_in min/ms'], axis=1)"
      ],
      "metadata": {
        "id": "fqEyNabkAuqP"
      },
      "execution_count": 8,
      "outputs": []
    },
    {
      "cell_type": "code",
      "source": [
        "#Verificando valores nulos nas colunas restantes\n",
        "print(treino.isnull().sum())"
      ],
      "metadata": {
        "id": "wAru4k86UU8j",
        "colab": {
          "base_uri": "https://localhost:8080/"
        },
        "outputId": "a2f384a2-c3ee-4752-8f84-1245aaea7c27"
      },
      "execution_count": 9,
      "outputs": [
        {
          "output_type": "stream",
          "name": "stdout",
          "text": [
            "danceability           0\n",
            "energy                 0\n",
            "key                 2014\n",
            "loudness               0\n",
            "mode                   0\n",
            "speechiness            0\n",
            "acousticness           0\n",
            "instrumentalness    4377\n",
            "liveness               0\n",
            "valence                0\n",
            "tempo                  0\n",
            "time_signature         0\n",
            "Class                  0\n",
            "dtype: int64\n"
          ]
        }
      ]
    },
    {
      "cell_type": "code",
      "source": [
        "#Imputando dados em 'key' com a moda de cada gênero\n",
        "for i in range(11):\n",
        "  moda = treino.loc[treino['Class'] == i, 'key'].mode()[0]\n",
        "  print(\"Gênero\", i, \"tem moda\", moda)\n",
        "  treino.loc[(treino['Class'] == i) & (treino['key'].isna()), 'key'] = moda"
      ],
      "metadata": {
        "id": "XPfXMt8TKCCH",
        "colab": {
          "base_uri": "https://localhost:8080/"
        },
        "outputId": "219c46d9-4cd5-4f33-f9f1-37309c3eb523"
      },
      "execution_count": 11,
      "outputs": [
        {
          "output_type": "stream",
          "name": "stdout",
          "text": [
            "Gênero 0 tem moda 2.0\n",
            "Gênero 1 tem moda 7.0\n",
            "Gênero 2 tem moda 7.0\n",
            "Gênero 3 tem moda 7.0\n",
            "Gênero 4 tem moda 2.0\n",
            "Gênero 5 tem moda 1.0\n",
            "Gênero 6 tem moda 9.0\n",
            "Gênero 7 tem moda 2.0\n",
            "Gênero 8 tem moda 1.0\n",
            "Gênero 9 tem moda 1.0\n",
            "Gênero 10 tem moda 2.0\n"
          ]
        }
      ]
    },
    {
      "cell_type": "code",
      "source": [
        "#Limitando a coluna 'instrumentalness' para 4 casas decimais\n",
        "treino['instrumentalness'] = treino['instrumentalness'].round(4)\n",
        "\n",
        "#Imputando dados em 'instrumentalness' com a média de cada gênero\n",
        "for i in range(11):\n",
        "  media = treino.loc[treino['Class'] == i, 'instrumentalness'].mean()\n",
        "  media = media.round(4)\n",
        "  print(\"Gênero\", i, \"tem média\", media)\n",
        "  treino.loc[(treino['Class'] == i) & (treino['instrumentalness'].isna()), 'instrumentalness'] = media"
      ],
      "metadata": {
        "colab": {
          "base_uri": "https://localhost:8080/"
        },
        "id": "D03bvhP29S-K",
        "outputId": "0c736f40-e36d-4d20-fd79-50eca2da9488"
      },
      "execution_count": 12,
      "outputs": [
        {
          "output_type": "stream",
          "name": "stdout",
          "text": [
            "Gênero 0 tem média 0.0995\n",
            "Gênero 1 tem média 0.1992\n",
            "Gênero 2 tem média 0.0979\n",
            "Gênero 3 tem média 0.1314\n",
            "Gênero 4 tem média 0.0127\n",
            "Gênero 5 tem média 0.0688\n",
            "Gênero 6 tem média 0.2626\n",
            "Gênero 7 tem média 0.7404\n",
            "Gênero 8 tem média 0.2359\n",
            "Gênero 9 tem média 0.0498\n",
            "Gênero 10 tem média 0.1128\n"
          ]
        }
      ]
    },
    {
      "cell_type": "code",
      "source": [
        "#Verificando se preenchimento aconteceu com sucesso\n",
        "print(treino.isnull().sum())"
      ],
      "metadata": {
        "colab": {
          "base_uri": "https://localhost:8080/"
        },
        "id": "sMj3dY_p_HeW",
        "outputId": "ee24a178-9143-4b7f-f36c-62358faf79fc"
      },
      "execution_count": 13,
      "outputs": [
        {
          "output_type": "stream",
          "name": "stdout",
          "text": [
            "danceability        0\n",
            "energy              0\n",
            "key                 0\n",
            "loudness            0\n",
            "mode                0\n",
            "speechiness         0\n",
            "acousticness        0\n",
            "instrumentalness    0\n",
            "liveness            0\n",
            "valence             0\n",
            "tempo               0\n",
            "time_signature      0\n",
            "Class               0\n",
            "dtype: int64\n"
          ]
        }
      ]
    },
    {
      "cell_type": "code",
      "source": [
        "#Verificando colunas existentes\n",
        "treino.columns"
      ],
      "metadata": {
        "colab": {
          "base_uri": "https://localhost:8080/"
        },
        "id": "-J8YFN_H_m8f",
        "outputId": "16d19830-44a6-4644-f5bb-c041823b6b35"
      },
      "execution_count": 15,
      "outputs": [
        {
          "output_type": "execute_result",
          "data": {
            "text/plain": [
              "Index(['danceability', 'energy', 'key', 'loudness', 'mode', 'speechiness',\n",
              "       'acousticness', 'instrumentalness', 'liveness', 'valence', 'tempo',\n",
              "       'time_signature', 'Class'],\n",
              "      dtype='object')"
            ]
          },
          "metadata": {},
          "execution_count": 15
        }
      ]
    },
    {
      "cell_type": "code",
      "source": [
        "#Desenvolvendo modelo de ML\n",
        "from sklearn.model_selection import train_test_split\n",
        "from sklearn.tree import DecisionTreeClassifier\n",
        "from sklearn.metrics import accuracy_score\n",
        "\n",
        "#Separando as características e o alvo\n",
        "X = treino.drop('Class', axis=1)\n",
        "y = treino['Class']\n",
        "\n",
        "X_train, X_test, y_train, y_test = train_test_split(X, y, test_size=0.5, random_state=42)\n",
        "\n",
        "#Criando o modelo de árvore de decisão\n",
        "clf = DecisionTreeClassifier(criterion = 'gini', splitter = 'best', max_depth = 10, min_samples_leaf = 1, min_samples_split = 10, random_state = 42)\n",
        "\n",
        "#Treinando o modelo\n",
        "clf.fit(X_train, y_train)\n",
        "\n",
        "#Fazendo previsões com o conjunto de teste\n",
        "y_pred = clf.predict(X_test)\n",
        "\n",
        "#Calcular a acurácia do modelo\n",
        "accuracy = accuracy_score(y_test, y_pred)\n",
        "\n",
        "print(f'Acurácia do modelo: {accuracy}')"
      ],
      "metadata": {
        "colab": {
          "base_uri": "https://localhost:8080/"
        },
        "id": "XzGmgEkAdoNw",
        "outputId": "b3897ec3-ec06-4745-c36d-9e885f276e56"
      },
      "execution_count": 23,
      "outputs": [
        {
          "output_type": "stream",
          "name": "stdout",
          "text": [
            "Acurácia do modelo: 0.5228939764392088\n"
          ]
        }
      ]
    },
    {
      "cell_type": "code",
      "source": [
        "#Instalando a biblioteca do spotify para realizar classificação de músicas fornecidas pelo usuário\n",
        "\n",
        "!pip install spotipy # - Executar quando iniciar pela primeira vez o colab"
      ],
      "metadata": {
        "colab": {
          "base_uri": "https://localhost:8080/"
        },
        "id": "fWSmCRZkqUFF",
        "outputId": "2796b108-1611-49d5-da67-458276b39b56"
      },
      "execution_count": 24,
      "outputs": [
        {
          "output_type": "stream",
          "name": "stdout",
          "text": [
            "Requirement already satisfied: spotipy in /usr/local/lib/python3.10/dist-packages (2.23.0)\n",
            "Requirement already satisfied: redis>=3.5.3 in /usr/local/lib/python3.10/dist-packages (from spotipy) (5.0.1)\n",
            "Requirement already satisfied: requests>=2.25.0 in /usr/local/lib/python3.10/dist-packages (from spotipy) (2.31.0)\n",
            "Requirement already satisfied: six>=1.15.0 in /usr/local/lib/python3.10/dist-packages (from spotipy) (1.16.0)\n",
            "Requirement already satisfied: urllib3>=1.26.0 in /usr/local/lib/python3.10/dist-packages (from spotipy) (2.0.7)\n",
            "Requirement already satisfied: async-timeout>=4.0.2 in /usr/local/lib/python3.10/dist-packages (from redis>=3.5.3->spotipy) (4.0.3)\n",
            "Requirement already satisfied: charset-normalizer<4,>=2 in /usr/local/lib/python3.10/dist-packages (from requests>=2.25.0->spotipy) (3.3.2)\n",
            "Requirement already satisfied: idna<4,>=2.5 in /usr/local/lib/python3.10/dist-packages (from requests>=2.25.0->spotipy) (3.4)\n",
            "Requirement already satisfied: certifi>=2017.4.17 in /usr/local/lib/python3.10/dist-packages (from requests>=2.25.0->spotipy) (2023.7.22)\n"
          ]
        }
      ]
    },
    {
      "cell_type": "code",
      "source": [
        "#Pegando musica diferente do spotify\n",
        "import spotipy\n",
        "from spotipy.oauth2 import SpotifyClientCredentials\n",
        "\n",
        "#Credenciais da API\n",
        "client_credentials_manager = SpotifyClientCredentials(client_id='9b1e9ff837434408ae773f93a6facb78', client_secret='67dbfcb123f343b2a6921dbfe243914f')\n",
        "sp = spotipy.Spotify(client_credentials_manager=client_credentials_manager)\n",
        "\n",
        "#Obtendo o nome da música do usuário\n",
        "nome_da_musica = input(\"Digite o nome da música que você quer pesquisar: \")\n",
        "results = sp.search(q=nome_da_musica, limit=1)\n",
        "\n",
        "#Obtendo o nome da música e do artista\n",
        "musica = results['tracks']['items'][0]['name']\n",
        "autor = results['tracks']['items'][0]['artists'][0]['name']\n",
        "\n",
        "#Mostrando o resultado\n",
        "print(\"A música que você buscou retornou o resultado: \", musica, \" - \", autor)\n",
        "\n",
        "#Pegando o ID da música encontrada\n",
        "id_da_musica = results['tracks']['items'][0]['id']\n",
        "\n",
        "#Obtendo os dados da música\n",
        "dadosDaMusica = sp.audio_features(id_da_musica)[0]\n",
        "\n",
        "#Limitando o atributo 'instrumentalness' para apenas 4 casas decimais\n",
        "dadosDaMusica['instrumentalness'] = round(dadosDaMusica['instrumentalness'], 4)\n"
      ],
      "metadata": {
        "id": "VespMLzdglYV",
        "colab": {
          "base_uri": "https://localhost:8080/"
        },
        "outputId": "33c6e315-c4d0-4c8c-fd8b-e77a9252a6b5"
      },
      "execution_count": 25,
      "outputs": [
        {
          "output_type": "stream",
          "name": "stdout",
          "text": [
            "Digite o nome da música que você quer pesquisar: aespa\n",
            "A música que você buscou retornou o resultado:  Better Things  -  aespa\n"
          ]
        }
      ]
    },
    {
      "cell_type": "code",
      "source": [
        "# Mapeando os dados fornecidos para a ordem desejada\n",
        "caracteristicas_relevantes = ['danceability', 'energy', 'key', 'loudness', 'mode', 'speechiness', 'acousticness', 'instrumentalness', 'liveness', 'valence', 'tempo', 'time_signature']\n",
        "valores = [dadosDaMusica[key] for key in caracteristicas_relevantes]\n",
        "\n",
        "# Usando a lista de valores para a previsão\n",
        "predicao = clf.predict([valores])\n",
        "\n",
        "if predicao == 0:\n",
        "    categoria_correspondente = \"Acoustic/Folk\"\n",
        "elif predicao == 1:\n",
        "    categoria_correspondente = \"Alt Music\"\n",
        "elif predicao == 2:\n",
        "    categoria_correspondente = \"Blues\"\n",
        "elif predicao == 3:\n",
        "    categoria_correspondente = \"Bollywood\"\n",
        "elif predicao == 4:\n",
        "    categoria_correspondente = \"Country\"\n",
        "elif predicao == 5:\n",
        "    categoria_correspondente = \"HipHop\"\n",
        "elif predicao == 6:\n",
        "    categoria_correspondente = \"Indie/Alt\"\n",
        "elif predicao == 7:\n",
        "    categoria_correspondente = \"Instrumental\"\n",
        "elif predicao == 8:\n",
        "    categoria_correspondente = \"Metal\"\n",
        "elif predicao == 9:\n",
        "    categoria_correspondente = \"Pop\"\n",
        "elif predicao == 10:\n",
        "    categoria_correspondente = \"Rock\"\n",
        "else:\n",
        "    categoria_correspondente = \"Categoria Desconhecida\"\n",
        "\n",
        "#Printando resultado\n",
        "print(\"A musica\", musica, \"de\", autor, \"faz parte do Gênero Musical -\", categoria_correspondente, predicao)"
      ],
      "metadata": {
        "colab": {
          "base_uri": "https://localhost:8080/"
        },
        "id": "T_S6ZHK9GfNJ",
        "outputId": "45d93767-56fb-41e9-e378-f92e3d9c55e3"
      },
      "execution_count": 26,
      "outputs": [
        {
          "output_type": "stream",
          "name": "stdout",
          "text": [
            "A musica Better Things de aespa faz parte do Gênero Musical - Pop [9]\n"
          ]
        },
        {
          "output_type": "stream",
          "name": "stderr",
          "text": [
            "/usr/local/lib/python3.10/dist-packages/sklearn/base.py:439: UserWarning: X does not have valid feature names, but DecisionTreeClassifier was fitted with feature names\n",
            "  warnings.warn(\n"
          ]
        }
      ]
    },
    {
      "cell_type": "code",
      "source": [
        "#Obtendo recomendações\n",
        "recommendations = sp.recommendations(seed_tracks=[id_da_musica],\n",
        "                                      limit=10,\n",
        "                                      target_danceability=dadosDaMusica['danceability'],\n",
        "                                      target_energy=dadosDaMusica['energy'],\n",
        "                                      target_liveness=dadosDaMusica['liveness'],\n",
        "                                      target_valence=dadosDaMusica['valence'])\n",
        "\n",
        "\n",
        "# Imprimir os nomes das músicas recomendadas e seus artistas\n",
        "print(\"Músicas que tenham a mesma \\\"vibe\\\": \\n \")\n",
        "for track in recommendations['tracks']:\n",
        "    print(f\"\\t Música: {track['name']} — {track['artists'][0]['name']} \\n\")"
      ],
      "metadata": {
        "colab": {
          "base_uri": "https://localhost:8080/"
        },
        "id": "xYbTlPZjnjtS",
        "outputId": "dd984a3a-5861-4e36-828e-3d5a74aba6d2"
      },
      "execution_count": 27,
      "outputs": [
        {
          "output_type": "stream",
          "name": "stdout",
          "text": [
            "Músicas que tenham a mesma \"vibe\": \n",
            " \n",
            "\t Música: Better Things — aespa \n",
            "\n",
            "\t Música: God's Menu — Stray Kids \n",
            "\n",
            "\t Música: Rumor — H.I.N.P (Hot Issue of Ntl. Producers) \n",
            "\n",
            "\t Música: Good Parts (when the quality is bad but I am) — LE SSERAFIM \n",
            "\n",
            "\t Música: TWIT — HWASA \n",
            "\n",
            "\t Música: RHYTHM TA — iKON \n",
            "\n",
            "\t Música: Heroine — SUNMI \n",
            "\n",
            "\t Música: Illusion — aespa \n",
            "\n",
            "\t Música: BOY — TREASURE \n",
            "\n",
            "\t Música: See U Later — BLACKPINK \n",
            "\n"
          ]
        }
      ]
    }
  ]
}